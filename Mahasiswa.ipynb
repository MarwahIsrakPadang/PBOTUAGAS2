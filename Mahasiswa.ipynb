{
  "nbformat": 4,
  "nbformat_minor": 0,
  "metadata": {
    "colab": {
      "provenance": [],
      "authorship_tag": "ABX9TyNp4X8kU/R8vWjMZk+jpUHe",
      "include_colab_link": true
    },
    "kernelspec": {
      "name": "python3",
      "display_name": "Python 3"
    },
    "language_info": {
      "name": "python"
    }
  },
  "cells": [
    {
      "cell_type": "markdown",
      "metadata": {
        "id": "view-in-github",
        "colab_type": "text"
      },
      "source": [
        "<a href=\"https://colab.research.google.com/github/MarwahIsrakPadang/PBOTUAGAS2/blob/main/Mahasiswa.ipynb\" target=\"_parent\"><img src=\"https://colab.research.google.com/assets/colab-badge.svg\" alt=\"Open In Colab\"/></a>"
      ]
    },
    {
      "cell_type": "code",
      "execution_count": 1,
      "metadata": {
        "colab": {
          "base_uri": "https://localhost:8080/"
        },
        "id": "yzlCLR9Nduxg",
        "outputId": "19c5fe54-e688-4e15-c924-f6fd98f1e9d2"
      },
      "outputs": [
        {
          "output_type": "stream",
          "name": "stdout",
          "text": [
            "KRS untuk Marwah Israk Padang (NIM: 230705192) telah dicetak.\n"
          ]
        }
      ],
      "source": [
        "class Mahasiswa:\n",
        "    def __init__(self, nama, nim):\n",
        "        self.nama = nama\n",
        "        self.nim = nim\n",
        "\n",
        "    def cetakkrs(self):\n",
        "        print(f\"KRS untuk {self.nama} (NIM: {self.nim}) telah dicetak.\")\n",
        "\n",
        "mhs = Mahasiswa(\"Marwah Israk Padang\", \"230705192\")\n",
        "mhs.cetakkrs()"
      ]
    }
  ]
}