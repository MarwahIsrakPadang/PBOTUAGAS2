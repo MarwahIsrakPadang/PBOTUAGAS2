{
  "nbformat": 4,
  "nbformat_minor": 0,
  "metadata": {
    "colab": {
      "provenance": [],
      "authorship_tag": "ABX9TyPLSnDia8i9jubCqoNheFFh",
      "include_colab_link": true
    },
    "kernelspec": {
      "name": "python3",
      "display_name": "Python 3"
    },
    "language_info": {
      "name": "python"
    }
  },
  "cells": [
    {
      "cell_type": "markdown",
      "metadata": {
        "id": "view-in-github",
        "colab_type": "text"
      },
      "source": [
        "<a href=\"https://colab.research.google.com/github/MarwahIsrakPadang/PBOTUAGAS2/blob/main/Buku.ipynb\" target=\"_parent\"><img src=\"https://colab.research.google.com/assets/colab-badge.svg\" alt=\"Open In Colab\"/></a>"
      ]
    },
    {
      "cell_type": "code",
      "source": [
        "class Buku:\n",
        "    def __init__(self, judul, penulis):\n",
        "        self.judul = judul\n",
        "        self.penulis = penulis\n",
        "\n",
        "    def info_buku(self):\n",
        "        print(f\"Buku: '{self.judul}' ditulis oleh {self.penulis}\")\n",
        "\n",
        "obj_buku = Buku(\"Belajar Python\", \"Marwah Israk Padang\")\n",
        "obj_buku.info_buku()"
      ],
      "metadata": {
        "colab": {
          "base_uri": "https://localhost:8080/"
        },
        "id": "RkNknSUXemM2",
        "outputId": "9ca7bf83-39e0-46a0-be3f-31c09a5189ca"
      },
      "execution_count": 3,
      "outputs": [
        {
          "output_type": "stream",
          "name": "stdout",
          "text": [
            "Buku: 'Belajar Python' ditulis oleh Marwah Israk Padang\n"
          ]
        }
      ]
    }
  ]
}