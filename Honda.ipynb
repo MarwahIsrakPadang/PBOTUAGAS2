{
  "nbformat": 4,
  "nbformat_minor": 0,
  "metadata": {
    "colab": {
      "provenance": [],
      "authorship_tag": "ABX9TyMy1e8zBYLwbCYyog0OK8oC",
      "include_colab_link": true
    },
    "kernelspec": {
      "name": "python3",
      "display_name": "Python 3"
    },
    "language_info": {
      "name": "python"
    }
  },
  "cells": [
    {
      "cell_type": "markdown",
      "metadata": {
        "id": "view-in-github",
        "colab_type": "text"
      },
      "source": [
        "<a href=\"https://colab.research.google.com/github/MarwahIsrakPadang/PBOTUAGAS2/blob/main/Honda.ipynb\" target=\"_parent\"><img src=\"https://colab.research.google.com/assets/colab-badge.svg\" alt=\"Open In Colab\"/></a>"
      ]
    },
    {
      "cell_type": "code",
      "source": [
        "class Honda:\n",
        "    def __init__(self, merk, model):\n",
        "        self.merk = merk\n",
        "        self.model = model\n",
        "\n",
        "    def info_honda(self):\n",
        "        print(f\"Honda: {self.merk} Model: {self.model}\")\n",
        "\n",
        "obj_honda = Honda(\"Beat\", \"Vario\")\n",
        "obj_honda.info_honda()"
      ],
      "metadata": {
        "colab": {
          "base_uri": "https://localhost:8080/"
        },
        "id": "5cIbQhPYkVdN",
        "outputId": "6342b10d-855a-4f90-8d67-e7956c94ef49"
      },
      "execution_count": 12,
      "outputs": [
        {
          "output_type": "stream",
          "name": "stdout",
          "text": [
            "Honda: Beat Model: Vario\n"
          ]
        }
      ]
    }
  ]
}